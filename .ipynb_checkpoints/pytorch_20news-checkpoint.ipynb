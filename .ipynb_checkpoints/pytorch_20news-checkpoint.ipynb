{
 "cells": [
  {
   "cell_type": "code",
   "execution_count": 81,
   "metadata": {},
   "outputs": [],
   "source": [
    "import numpy as np\n",
    "import torch\n",
    "import torch.nn as nn\n",
    "import torch.nn.functional as F\n",
    "import matplotlib.pyplot as plt\n",
    "import torch.optim as optim\n",
    "from gensim.test.utils import datapath, get_tmpfile\n",
    "from gensim.models import KeyedVectors\n",
    "from gensim.scripts.glove2word2vec import glove2word2vec\n",
    "import os\n",
    "from sklearn.datasets import fetch_20newsgroups\n",
    "import seaborn as sns\n",
    "import math"
   ]
  },
  {
   "cell_type": "markdown",
   "metadata": {},
   "source": [
    "## Import Pre-trained word vectors from Glove"
   ]
  },
  {
   "cell_type": "code",
   "execution_count": 7,
   "metadata": {},
   "outputs": [],
   "source": [
    "glove_file = datapath(os.getcwd()+\"/data/glove.6B.300d.txt\")\n",
    "word2vec_glove_file = get_tmpfile(os.getcwd()+\"/data/glove.6B.300d.word2vec.txt\")\n",
    "glove2word2vec(glove_file, word2vec_glove_file)\n",
    "model = KeyedVectors.load_word2vec_format(word2vec_glove_file)"
   ]
  },
  {
   "cell_type": "code",
   "execution_count": 19,
   "metadata": {},
   "outputs": [],
   "source": [
    "categories = ['talk.politics.guns', 'soc.religion.christian', 'comp.graphics', 'sci.med']\n",
    "twenty_train = fetch_20newsgroups(subset='train', categories=categories, shuffle=True, random_state=42)"
   ]
  },
  {
   "cell_type": "code",
   "execution_count": 20,
   "metadata": {},
   "outputs": [
    {
     "name": "stdout",
     "output_type": "stream",
     "text": [
      "['comp.graphics', 'sci.med', 'soc.religion.christian', 'talk.politics.guns']\n",
      "2323\n",
      "2323\n"
     ]
    }
   ],
   "source": [
    "print(twenty_train.target_names) # news categories used\n",
    "print(len(twenty_train.data))\n",
    "print(len(twenty_train.filenames))"
   ]
  },
  {
   "cell_type": "code",
   "execution_count": 46,
   "metadata": {},
   "outputs": [
    {
     "name": "stdout",
     "output_type": "stream",
     "text": [
      "From :  Petch @ gvg47 . gvg . tek . com  ( Chuck Petch ) \n",
      "Subject :  Daily Verse\n",
      "Organization :  Grass Valley Group ,  Grass Valley ,  CA\n",
      "Lines :  4\n",
      "\n",
      "For whoever does the will of my Father in heaven is my brother and sister\n",
      "and mother .  \"  \n",
      "\n",
      "Matthew 12 : 50\n",
      "\n"
     ]
    }
   ],
   "source": [
    "#print(\"\\n\".join(twenty_train.data[0].split(\"\\n\")[:3]))\n",
    "print(\"\\n\".join(clean_text(twenty_train.data[2]).split(\"\\n\")))"
   ]
  },
  {
   "cell_type": "code",
   "execution_count": 31,
   "metadata": {},
   "outputs": [
    {
     "data": {
      "text/plain": [
       "['from',\n",
       " ':',\n",
       " 'petch',\n",
       " '@',\n",
       " 'gvg47',\n",
       " '.',\n",
       " 'gvg',\n",
       " '.',\n",
       " 'tek',\n",
       " '.',\n",
       " 'com',\n",
       " '(',\n",
       " 'chuck',\n",
       " 'petch',\n",
       " ')',\n",
       " 'subject',\n",
       " ':',\n",
       " 'daily',\n",
       " 'verse',\n",
       " 'organization',\n",
       " ':',\n",
       " 'grass',\n",
       " 'valley',\n",
       " 'group',\n",
       " ',',\n",
       " 'grass',\n",
       " 'valley',\n",
       " ',',\n",
       " 'ca',\n",
       " 'lines',\n",
       " ':',\n",
       " '4',\n",
       " 'for',\n",
       " 'whoever',\n",
       " 'does',\n",
       " 'the',\n",
       " 'will',\n",
       " 'of',\n",
       " 'my',\n",
       " 'father',\n",
       " 'in',\n",
       " 'heaven',\n",
       " 'is',\n",
       " 'my',\n",
       " 'brother',\n",
       " 'and',\n",
       " 'sister',\n",
       " 'and',\n",
       " 'mother',\n",
       " '.',\n",
       " '\"',\n",
       " 'matthew',\n",
       " '12',\n",
       " ':',\n",
       " '50']"
      ]
     },
     "execution_count": 31,
     "metadata": {},
     "output_type": "execute_result"
    }
   ],
   "source": [
    "clean_text(twenty_train.data[2]).replace('\\n', ' ').lower().split()"
   ]
  },
  {
   "cell_type": "code",
   "execution_count": 22,
   "metadata": {},
   "outputs": [],
   "source": [
    "puncts = [',', '.', '\"', ':', ')', '(', '-', '!', '?', '|', ';', \"'\", '$', '&', '/', '[', ']', '>', '%', '=', '#', '*', '+', '\\\\', '•',  '~', '@', '£', \n",
    " '·', '_', '{', '}', '©', '^', '®', '`',  '<', '→', '°', '€', '™', '›',  '♥', '←', '×', '§', '″', '′', 'Â', '█', '½', 'à', '…', \n",
    " '“', '★', '”', '–', '●', 'â', '►', '−', '¢', '²', '¬', '░', '¶', '↑', '±', '¿', '▾', '═', '¦', '║', '―', '¥', '▓', '—', '‹', '─', \n",
    " '▒', '：', '¼', '⊕', '▼', '▪', '†', '■', '’', '▀', '¨', '▄', '♫', '☆', 'é', '¯', '♦', '¤', '▲', 'è', '¸', '¾', 'Ã', '⋅', '‘', '∞', \n",
    " '∙', '）', '↓', '、', '│', '（', '»', '，', '♪', '╩', '╚', '³', '・', '╦', '╣', '╔', '╗', '▬', '❤', 'ï', 'Ø', '¹', '≤', '‡', '√', ]\n",
    "\n",
    "def clean_text(x):\n",
    "    x = str(x)\n",
    "    for punct in puncts:\n",
    "        if punct in x:\n",
    "            x = x.replace(punct, f' {punct} ')\n",
    "    return x"
   ]
  },
  {
   "cell_type": "code",
   "execution_count": 51,
   "metadata": {},
   "outputs": [
    {
     "data": {
      "text/plain": [
       "(0, 1000)"
      ]
     },
     "execution_count": 51,
     "metadata": {},
     "output_type": "execute_result"
    },
    {
     "data": {
      "image/png": "[encoded data removed]",
      "text/plain": [
       "<Figure size 432x288 with 1 Axes>"
      ]
     },
     "metadata": {
      "needs_background": "light"
     },
     "output_type": "display_data"
    }
   ],
   "source": [
    "pos_word_length_dist = []\n",
    "for article in twenty_train.data:\n",
    "    cleaned_article = clean_text(article).replace('\\n', ' ').lower().split()\n",
    "    pos_word_length_dist.append(len(cleaned_article))\n",
    "\n",
    "plt.hist(pos_word_length_dist, bins=400)\n",
    "plt.xlim(0, 1000)\n",
    "#sns.distplot(pos_word_length_dist)"
   ]
  },
  {
   "cell_type": "code",
   "execution_count": 57,
   "metadata": {},
   "outputs": [
    {
     "name": "stdout",
     "output_type": "stream",
     "text": [
      "[  0.   1.   2.   3.   4.   5.   6.   7.   8.   9.  10.  11.  12.  13.\n",
      "  14.  15.  16.  17.  18.  19.  20.  21.  22.  23.  24.  25.  26.  27.\n",
      "  28.  29.  30.  31.  32.  33.  34.  35.  36.  37.  38.  39.  40.  41.\n",
      "  42.  43.  44.  45.  46.  47.  48.  49.  50.  51.  52.  53.  54.  55.\n",
      "  56.  57.  58.  59.  60.  61.  62.  63.  64.  65.  66.  67.  68.  69.\n",
      "  70.  71.  72.  73.  74.  75.  76.  77.  78.  79.  80.  81.  82.  83.\n",
      "  84.  85.  86.  87.  88.  89.  90.  91.  92.  93.  94.  95.  96.  97.\n",
      "  98.  99. 100.]\n"
     ]
    },
    {
     "data": {
      "text/plain": [
       "80.0"
      ]
     },
     "execution_count": 57,
     "metadata": {},
     "output_type": "execute_result"
    }
   ],
   "source": [
    "a = np.linspace(0, 100, 101)\n",
    "print(a)\n",
    "np.percentile(a, q=80)"
   ]
  },
  {
   "cell_type": "code",
   "execution_count": 85,
   "metadata": {},
   "outputs": [],
   "source": [
    "def shuffle(data, target):\n",
    "    random_seed = np.random.randint(low=len(data), size=len(data))\n",
    "    shuffled_data = data[random_seed]\n",
    "    shuffled_target = target[random_seed]\n",
    "    return (shuffled_data, shuffled_target)\n",
    "\n",
    "def fit_sequence(sequence, size):\n",
    "    #print(type(sequence))\n",
    "    #print(sequence)\n",
    "    if len(sequence) == size:\n",
    "        return sequence\n",
    "    elif len(sequence) > size:\n",
    "        return sequence[:size]\n",
    "    elif len(sequence) < size:\n",
    "        #print(size-len(sequence))\n",
    "        return np.concatenate((sequence, np.zeros((int(size-len(sequence)), 300), dtype=float)))\n",
    "\n",
    "def organize_into_bins(documents, target):\n",
    "    np.array([np.array([]), np.array([]), np.array([]), np.array([])])\n",
    "    bin_input = [[],[],[],[],[],[],[],[],[],[],[]]\n",
    "    bin_target = [[],[],[],[],[],[],[],[],[],[],[]]\n",
    "    batch_lengths = [[],[],[],[],[],[],[],[],[],[],[]]\n",
    "    \n",
    "    for i in range(0, len(documents)):\n",
    "        if len(documents[i]) <= 1000:\n",
    "            index = len(documents[i]) // 100\n",
    "            batch_lengths[index].append(len(documents[i]))\n",
    "        else:\n",
    "            batch_lengths[10].append(len(documents[i]))\n",
    "            \n",
    "    for i in range(0, len(documents)):\n",
    "        if len(documents[i]) <= 1000:\n",
    "            index = len(documents[i]) // 100\n",
    "            cutoff = math.floor(np.percentile(np.array(batch_lengths[index]), q=80))\n",
    "            bin_input[index].append(fit_sequence(documents[i], cutoff))\n",
    "            bin_target[index].append(target[i])\n",
    "        else:\n",
    "            bin_input[10].append(fit_sequence(documents[i], 1000))\n",
    "            bin_target[10].append(target[i])\n",
    "    return(bin_input, bin_target)"
   ]
  },
  {
   "cell_type": "code",
   "execution_count": 86,
   "metadata": {},
   "outputs": [],
   "source": [
    "data = []\n",
    "target = []\n",
    "for i in range(0, len(twenty_train.data)):\n",
    "    article_vector = []\n",
    "    cleaned_article = clean_text(twenty_train.data[i]).replace('\\n', ' ').lower().split()\n",
    "    for word in cleaned_article:\n",
    "        try:\n",
    "            article_vector.append(model[word])\n",
    "        except KeyError:\n",
    "            article_vector.append(np.zeros(300, dtype=float))\n",
    "    data.append(article_vector)\n",
    "    target.append(twenty_train.target[i])\n",
    "\n",
    "(data, target) = shuffle(data=np.array(data), target=np.array(target))\n",
    "input_test = data[:600]\n",
    "target_test = target[:600]\n",
    "input_train = data[600:]\n",
    "target_train = target[600:]\n",
    "(bin_input, bin_target) = organize_into_bins(documents=input_train, target=target_train)"
   ]
  },
  {
   "cell_type": "code",
   "execution_count": null,
   "metadata": {},
   "outputs": [],
   "source": []
  }
 ],
 "metadata": {
  "kernelspec": {
   "display_name": "Python 3",
   "language": "python",
   "name": "python3"
  },
  "language_info": {
   "codemirror_mode": {
    "name": "ipython",
    "version": 3
   },
   "file_extension": ".py",
   "mimetype": "text/x-python",
   "name": "python",
   "nbconvert_exporter": "python",
   "pygments_lexer": "ipython3",
   "version": "3.7.3"
  }
 },
 "nbformat": 4,
 "nbformat_minor": 2
}
