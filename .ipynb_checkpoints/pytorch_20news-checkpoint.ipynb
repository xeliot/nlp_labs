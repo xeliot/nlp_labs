{
 "cells": [
  {
   "cell_type": "code",
   "execution_count": 2,
   "metadata": {},
   "outputs": [],
   "source": [
    "import numpy as np\n",
    "import torch\n",
    "import torch.nn as nn\n",
    "import torch.nn.functional as F\n",
    "import matplotlib.pyplot as plt\n",
    "import torch.optim as optim\n",
    "from gensim.test.utils import datapath, get_tmpfile\n",
    "from gensim.models import KeyedVectors\n",
    "from gensim.scripts.glove2word2vec import glove2word2vec\n",
    "import os\n",
    "from sklearn.datasets import fetch_20newsgroups\n",
    "import seaborn as sns\n",
    "import math"
   ]
  },
  {
   "cell_type": "markdown",
   "metadata": {},
   "source": [
    "## Download Pre-trained word vectors Glove zip\n",
    "http://nlp.stanford.edu/data/glove.6B.zip  \n",
    "Unzip 6B zip file from Downloads  \n",
    "Copy \"glove.6B.300d.txt\" from unzipped folder  \n",
    "Create folder named \"data\" and paste copied text file into \"data\""
   ]
  },
  {
   "cell_type": "markdown",
   "metadata": {},
   "source": [
    "## Import Pre-trained word vectors from Glove"
   ]
  },
  {
   "cell_type": "code",
   "execution_count": 3,
   "metadata": {},
   "outputs": [
    {
     "name": "stderr",
     "output_type": "stream",
     "text": [
      "/anaconda3/lib/python3.7/site-packages/smart_open/smart_open_lib.py:398: UserWarning: This function is deprecated, use smart_open.open instead. See the migration notes for details: https://github.com/RaRe-Technologies/smart_open/blob/master/README.rst#migrating-to-the-new-open-function\n",
      "  'See the migration notes for details: %s' % _MIGRATION_NOTES_URL\n",
      "/anaconda3/lib/python3.7/site-packages/smart_open/smart_open_lib.py:398: UserWarning: This function is deprecated, use smart_open.open instead. See the migration notes for details: https://github.com/RaRe-Technologies/smart_open/blob/master/README.rst#migrating-to-the-new-open-function\n",
      "  'See the migration notes for details: %s' % _MIGRATION_NOTES_URL\n",
      "/anaconda3/lib/python3.7/site-packages/smart_open/smart_open_lib.py:398: UserWarning: This function is deprecated, use smart_open.open instead. See the migration notes for details: https://github.com/RaRe-Technologies/smart_open/blob/master/README.rst#migrating-to-the-new-open-function\n",
      "  'See the migration notes for details: %s' % _MIGRATION_NOTES_URL\n",
      "/anaconda3/lib/python3.7/site-packages/smart_open/smart_open_lib.py:398: UserWarning: This function is deprecated, use smart_open.open instead. See the migration notes for details: https://github.com/RaRe-Technologies/smart_open/blob/master/README.rst#migrating-to-the-new-open-function\n",
      "  'See the migration notes for details: %s' % _MIGRATION_NOTES_URL\n",
      "/anaconda3/lib/python3.7/site-packages/smart_open/smart_open_lib.py:398: UserWarning: This function is deprecated, use smart_open.open instead. See the migration notes for details: https://github.com/RaRe-Technologies/smart_open/blob/master/README.rst#migrating-to-the-new-open-function\n",
      "  'See the migration notes for details: %s' % _MIGRATION_NOTES_URL\n"
     ]
    }
   ],
   "source": [
    "glove_file = datapath(os.getcwd()+\"/data/glove.6B.300d.txt\")\n",
    "word2vec_glove_file = get_tmpfile(os.getcwd()+\"/data/glove.6B.300d.word2vec.txt\")\n",
    "glove2word2vec(glove_file, word2vec_glove_file)\n",
    "model = KeyedVectors.load_word2vec_format(word2vec_glove_file)"
   ]
  },
  {
   "cell_type": "markdown",
   "metadata": {},
   "source": [
    "## Fetch 20 News Groups Data\n",
    "4 categories\n",
    " - gun politics\n",
    " - christianity\n",
    " - computer graphics\n",
    " - science medical"
   ]
  },
  {
   "cell_type": "code",
   "execution_count": 4,
   "metadata": {},
   "outputs": [],
   "source": [
    "categories = ['talk.politics.guns', 'soc.religion.christian', 'comp.graphics', 'sci.med']\n",
    "twenty_train = fetch_20newsgroups(subset='train', categories=categories, shuffle=True, random_state=42)"
   ]
  },
  {
   "cell_type": "code",
   "execution_count": 5,
   "metadata": {},
   "outputs": [
    {
     "name": "stdout",
     "output_type": "stream",
     "text": [
      "['comp.graphics', 'sci.med', 'soc.religion.christian', 'talk.politics.guns']\n",
      "2323\n",
      "2323\n"
     ]
    }
   ],
   "source": [
    "print(twenty_train.target_names) # news categories used\n",
    "print(len(twenty_train.data))\n",
    "print(len(twenty_train.filenames))"
   ]
  },
  {
   "cell_type": "markdown",
   "metadata": {},
   "source": [
    "#### Add spaces before and after punctuation"
   ]
  },
  {
   "cell_type": "code",
   "execution_count": 7,
   "metadata": {},
   "outputs": [],
   "source": [
    "puncts = [',', '.', '\"', ':', ')', '(', '-', '!', '?', '|', ';', \"'\", '$', '&', '/', '[', ']', '>', '%', '=', '#', '*', '+', '\\\\', '•',  '~', '@', '£', \n",
    " '·', '_', '{', '}', '©', '^', '®', '`',  '<', '→', '°', '€', '™', '›',  '♥', '←', '×', '§', '″', '′', 'Â', '█', '½', 'à', '…', \n",
    " '“', '★', '”', '–', '●', 'â', '►', '−', '¢', '²', '¬', '░', '¶', '↑', '±', '¿', '▾', '═', '¦', '║', '―', '¥', '▓', '—', '‹', '─', \n",
    " '▒', '：', '¼', '⊕', '▼', '▪', '†', '■', '’', '▀', '¨', '▄', '♫', '☆', 'é', '¯', '♦', '¤', '▲', 'è', '¸', '¾', 'Ã', '⋅', '‘', '∞', \n",
    " '∙', '）', '↓', '、', '│', '（', '»', '，', '♪', '╩', '╚', '³', '・', '╦', '╣', '╔', '╗', '▬', '❤', 'ï', 'Ø', '¹', '≤', '‡', '√', ]\n",
    "\n",
    "def clean_text(x):\n",
    "    x = str(x)\n",
    "    for punct in puncts:\n",
    "        if punct in x:\n",
    "            x = x.replace(punct, f' {punct} ')\n",
    "    return x"
   ]
  },
  {
   "cell_type": "code",
   "execution_count": 8,
   "metadata": {},
   "outputs": [
    {
     "name": "stdout",
     "output_type": "stream",
     "text": [
      "From :  Petch @ gvg47 . gvg . tek . com  ( Chuck Petch ) \n",
      "Subject :  Daily Verse\n",
      "Organization :  Grass Valley Group ,  Grass Valley ,  CA\n",
      "Lines :  4\n",
      "\n",
      "For whoever does the will of my Father in heaven is my brother and sister\n",
      "and mother .  \"  \n",
      "\n",
      "Matthew 12 : 50\n",
      "\n"
     ]
    }
   ],
   "source": [
    "#print(\"\\n\".join(twenty_train.data[0].split(\"\\n\")[:3]))\n",
    "print(\"\\n\".join(clean_text(twenty_train.data[2]).split(\"\\n\")))"
   ]
  },
  {
   "cell_type": "markdown",
   "metadata": {},
   "source": [
    "#### Example of preprocessing our data"
   ]
  },
  {
   "cell_type": "code",
   "execution_count": 9,
   "metadata": {},
   "outputs": [
    {
     "name": "stdout",
     "output_type": "stream",
     "text": [
      "['from', ':', 'petch', '@', 'gvg47', '.', 'gvg', '.', 'tek', '.', 'com', '(', 'chuck', 'petch', ')', 'subject', ':', 'daily', 'verse', 'organization', ':', 'grass', 'valley', 'group', ',', 'grass', 'valley', ',', 'ca', 'lines', ':', '4', 'for', 'whoever', 'does', 'the', 'will', 'of', 'my', 'father', 'in', 'heaven', 'is', 'my', 'brother', 'and', 'sister', 'and', 'mother', '.', '\"', 'matthew', '12', ':', '50']\n"
     ]
    }
   ],
   "source": [
    "print(clean_text(twenty_train.data[2]).replace('\\n', ' ').lower().split())"
   ]
  },
  {
   "cell_type": "markdown",
   "metadata": {},
   "source": [
    "## Visualize sequence length distribution to determine appropriate bin separations"
   ]
  },
  {
   "cell_type": "code",
   "execution_count": 10,
   "metadata": {},
   "outputs": [
    {
     "data": {
      "text/plain": [
       "(0, 1000)"
      ]
     },
     "execution_count": 10,
     "metadata": {},
     "output_type": "execute_result"
    },
    {
     "data": {
      "image/png": "[encoded data removed]",
      "text/plain": [
       "<Figure size 432x288 with 1 Axes>"
      ]
     },
     "metadata": {
      "needs_background": "light"
     },
     "output_type": "display_data"
    }
   ],
   "source": [
    "pos_word_length_dist = []\n",
    "for article in twenty_train.data:\n",
    "    cleaned_article = clean_text(article).replace('\\n', ' ').lower().split()\n",
    "    pos_word_length_dist.append(len(cleaned_article))\n",
    "\n",
    "plt.hist(pos_word_length_dist, bins=400)\n",
    "plt.xlim(0, 1000)\n",
    "#sns.distplot(pos_word_length_dist)"
   ]
  },
  {
   "cell_type": "markdown",
   "metadata": {},
   "source": [
    "## Parse data into bins to feed into model"
   ]
  },
  {
   "cell_type": "code",
   "execution_count": 11,
   "metadata": {},
   "outputs": [],
   "source": [
    "def shuffle(data, target):\n",
    "    random_seed = np.random.randint(low=len(data), size=len(data))\n",
    "    shuffled_data = data[random_seed]\n",
    "    shuffled_target = target[random_seed]\n",
    "    return (shuffled_data, shuffled_target)\n",
    "\n",
    "def fit_sequence(sequence, size):\n",
    "    #print(type(sequence))\n",
    "    #print(sequence)\n",
    "    if len(sequence) == size:\n",
    "        return sequence\n",
    "    elif len(sequence) > size:\n",
    "        return sequence[:size]\n",
    "    elif len(sequence) < size:\n",
    "        #print(size-len(sequence))\n",
    "        return np.concatenate((sequence, np.zeros((int(size-len(sequence)), 300), dtype=float)))\n",
    "\n",
    "def organize_into_bins(documents, target):\n",
    "    np.array([np.array([]), np.array([]), np.array([]), np.array([])])\n",
    "    bin_input = [[],[],[],[],[],[],[],[],[],[],[]]\n",
    "    bin_target = [[],[],[],[],[],[],[],[],[],[],[]]\n",
    "    batch_lengths = [[],[],[],[],[],[],[],[],[],[],[]]\n",
    "    \n",
    "    for i in range(0, len(documents)):\n",
    "        if len(documents[i]) <= 1000:\n",
    "            index = len(documents[i]) // 100\n",
    "            batch_lengths[index].append(len(documents[i]))\n",
    "        else:\n",
    "            batch_lengths[10].append(len(documents[i]))\n",
    "            \n",
    "    for i in range(0, len(documents)):\n",
    "        if len(documents[i]) <= 1000:\n",
    "            index = len(documents[i]) // 100\n",
    "            cutoff = math.floor(np.percentile(np.array(batch_lengths[index]), q=80))\n",
    "            bin_input[index].append(fit_sequence(documents[i], cutoff))\n",
    "            bin_target[index].append(target[i])\n",
    "        else:\n",
    "            bin_input[10].append(fit_sequence(documents[i], 1000))\n",
    "            bin_target[10].append(target[i])\n",
    "    return(bin_input, bin_target)"
   ]
  },
  {
   "cell_type": "markdown",
   "metadata": {},
   "source": [
    "## Preprocess raw data and place into appropriate bins"
   ]
  },
  {
   "cell_type": "code",
   "execution_count": 13,
   "metadata": {},
   "outputs": [],
   "source": [
    "data = []\n",
    "target = []\n",
    "for i in range(0, len(twenty_train.data)):\n",
    "    article_vector = []\n",
    "    cleaned_article = clean_text(twenty_train.data[i]).replace('\\n', ' ').lower().split()\n",
    "    for word in cleaned_article:\n",
    "        try:\n",
    "            article_vector.append(model[word])\n",
    "        except KeyError:\n",
    "            article_vector.append(np.zeros(300, dtype=float))\n",
    "    data.append(article_vector)\n",
    "    target.append(twenty_train.target[i])\n",
    "\n",
    "(data, target) = shuffle(data=np.array(data), target=np.array(target))\n",
    "input_test = data[:300]\n",
    "target_test = target[:300]\n",
    "input_validation = data[300:600]\n",
    "target_validation = target[300:600]\n",
    "input_train = data[600:]\n",
    "target_train = target[600:]\n",
    "(bin_input, bin_target) = organize_into_bins(documents=input_train, target=target_train)\n",
    "(bin_input_validation, bin_target_validation) = organize_into_bins(documents=input_validation, target=target_validation)"
   ]
  },
  {
   "cell_type": "code",
   "execution_count": 14,
   "metadata": {},
   "outputs": [
    {
     "name": "stdout",
     "output_type": "stream",
     "text": [
      "(205, 469, 300)\n",
      "(205,)\n"
     ]
    }
   ],
   "source": [
    "print(np.array(bin_input[4]).shape)\n",
    "print(np.array(bin_target[4]).shape)"
   ]
  },
  {
   "cell_type": "markdown",
   "metadata": {},
   "source": [
    "## Build LSTM model with PyTorch"
   ]
  },
  {
   "cell_type": "code",
   "execution_count": 28,
   "metadata": {},
   "outputs": [],
   "source": [
    "class LSTM(nn.Module):\n",
    "    def __init__(self, hidden_size, layer_dim=1):\n",
    "        super(LSTM, self).__init__()\n",
    "        self.hidden_size = hidden_size\n",
    "        self.layer_dim = layer_dim\n",
    "        self.lstm1 = nn.LSTM(input_size=300, hidden_size=hidden_size, num_layers=layer_dim, batch_first=True, bidirectional=True, dropout=0.4)\n",
    "        self.fc1 = nn.Linear(hidden_size*2, 20) # hidden_size *2 because of bidirectional\n",
    "        self.fc2 = nn.Linear(20, 20)\n",
    "        self.fc3 = nn.Linear(20, 4)\n",
    "        self.dropout = nn.Dropout(p=0.4)\n",
    "        \n",
    "    def forward(self, inputs):\n",
    "        out, (hn, cn) = self.lstm1(inputs)\n",
    "        hn_flat = torch.cat((hn[0], hn[1]), dim=1)\n",
    "        out = F.relu(self.fc1(hn_flat))\n",
    "        out = self.dropout(out)\n",
    "        out = F.relu(self.fc2(out))\n",
    "        out = self.dropout(out)\n",
    "        out = self.fc3(out)\n",
    "        return out\n",
    "    \n",
    "net = LSTM(hidden_size=20, layer_dim=3)"
   ]
  },
  {
   "cell_type": "code",
   "execution_count": 29,
   "metadata": {},
   "outputs": [],
   "source": [
    "criterion = nn.CrossEntropyLoss()\n",
    "optimizer = optim.Adam(net.parameters(), lr=0.005)"
   ]
  },
  {
   "cell_type": "code",
   "execution_count": 30,
   "metadata": {},
   "outputs": [
    {
     "name": "stdout",
     "output_type": "stream",
     "text": [
      "Running Loss: 1.408562497659163 |  Validation Loss: 1.4109127846631138\n",
      "Running Loss: 1.3812840960242532 |  Validation Loss: 1.3840269392186946\n",
      "Running Loss: 1.3756905794143677 |  Validation Loss: 1.3804090456529097\n",
      "Running Loss: 1.3703175566413186 |  Validation Loss: 1.3773631074211814\n",
      "Running Loss: 1.353592038154602 |  Validation Loss: 1.3766004172238437\n",
      "Running Loss: 1.3342285589738325 |  Validation Loss: 1.3545850081877275\n",
      "Running Loss: 1.2805939804423938 |  Validation Loss: 1.3369362245906482\n",
      "Running Loss: 1.1803498430685564 |  Validation Loss: 1.2436537634242664\n",
      "Running Loss: 1.0525894923643633 |  Validation Loss: 1.0497095422311262\n",
      "Running Loss: 0.8780980950052087 |  Validation Loss: 0.8599239208481528\n",
      "Running Loss: 0.7509602958505804 |  Validation Loss: 0.7490809654647653\n",
      "Running Loss: 0.6154901358214292 |  Validation Loss: 0.6953254802660509\n",
      "Running Loss: 0.5575180920687589 |  Validation Loss: 0.6215756156227805\n",
      "Running Loss: 0.448460075665604 |  Validation Loss: 0.5384148941798643\n",
      "Running Loss: 0.41349567202004517 |  Validation Loss: 0.6276193057948892\n",
      "Running Loss: 0.3143323842774738 |  Validation Loss: 0.5119629273699089\n",
      "Running Loss: 0.28306732191280887 |  Validation Loss: 0.5133374020541933\n",
      "Running Loss: 0.282681943340735 |  Validation Loss: 0.4170313537205485\n",
      "Running Loss: 0.23077572069384836 |  Validation Loss: 0.5218243301338092\n",
      "Running Loss: 0.1596479734236544 |  Validation Loss: 0.3315709298264913\n",
      "Running Loss: 0.19256293739784847 |  Validation Loss: 0.6467244875490327\n",
      "Running Loss: 0.14424354371360756 |  Validation Loss: 0.21495652637994764\n",
      "Running Loss: 0.13481479646130043 |  Validation Loss: 0.4307843995735642\n",
      "Running Loss: 0.1094706320965832 |  Validation Loss: 0.4182920687876917\n",
      "Running Loss: 0.09304701536893845 |  Validation Loss: 0.3666562213898446\n",
      "Running Loss: 0.09627889401533386 |  Validation Loss: 0.36952134479162685\n",
      "Running Loss: 0.08814703156663613 |  Validation Loss: 0.4502568897875211\n",
      "Running Loss: 0.0701036544686014 |  Validation Loss: 0.38259878786580387\n",
      "Running Loss: 0.07024344869635323 |  Validation Loss: 0.23468655212358994\n",
      "Running Loss: 0.06053782559253953 |  Validation Loss: 0.2289265693154696\n",
      "Running Loss: 0.07019755136306313 |  Validation Loss: 0.23482757120245878\n",
      "Running Loss: 0.05042874355885116 |  Validation Loss: 0.24942390719872326\n",
      "Running Loss: 0.04499604066156528 |  Validation Loss: 0.2170307977172673\n",
      "Running Loss: 0.047037881312214515 |  Validation Loss: 0.2157806575758679\n",
      "Running Loss: 0.04988943611864339 |  Validation Loss: 0.21709513752958545\n",
      "Finished Training\n"
     ]
    }
   ],
   "source": [
    "for epoch in range(35):  # loop over the dataset multiple times\n",
    "    running_loss = 0.0\n",
    "    running_validation_loss = 0.0\n",
    "    for i in range(0, len(bin_input)):\n",
    "        # zero the parameter gradients\n",
    "        optimizer.zero_grad()\n",
    "        \n",
    "        net.train()\n",
    "        \n",
    "        batch_input = np.array(bin_input[i])\n",
    "        batch_target = np.array(bin_target[i])\n",
    "        batch_input = torch.from_numpy(batch_input)\n",
    "        batch_input = batch_input.type(torch.float)\n",
    "        batch_target = torch.from_numpy(batch_target)\n",
    "        batch_target = batch_target.type(torch.long)\n",
    "        \n",
    "        # forward + backward + optimize\n",
    "        outputs = net(batch_input)\n",
    "        #print(outputs.shape)\n",
    "        loss = criterion(outputs, batch_target)\n",
    "        \n",
    "        net.eval()\n",
    "        batch_input_validation = np.array(bin_input_validation[i])\n",
    "        batch_target_validation = np.array(bin_target_validation[i])\n",
    "        batch_input_validation = torch.from_numpy(batch_input_validation)\n",
    "        batch_input_validation = batch_input_validation.type(torch.float)\n",
    "        batch_target_validation = torch.from_numpy(batch_target_validation)\n",
    "        batch_target_validation = batch_target_validation.type(torch.long)\n",
    "        \n",
    "        validation_outputs = net(batch_input_validation)\n",
    "        validation_loss = criterion(validation_outputs, batch_target_validation)\n",
    "        net.train()\n",
    "        \n",
    "        loss.backward()\n",
    "        optimizer.step()\n",
    "        running_loss += loss.item()\n",
    "        running_validation_loss += validation_loss.item()\n",
    "    print(\"Running Loss: \" + str((running_loss / len(bin_input))) + \" |  Validation Loss: \" + str((running_validation_loss / len(bin_input))))\n",
    "\n",
    "print('Finished Training')"
   ]
  },
  {
   "cell_type": "code",
   "execution_count": 31,
   "metadata": {},
   "outputs": [],
   "source": [
    "from sklearn.metrics import classification_report, confusion_matrix  \n",
    "\n",
    "def predict(review):\n",
    "    parse_review = clean_text(review).replace('\\n', ' ').lower().split()\n",
    "    parse_review_vectors = []\n",
    "    for word in parse_review:\n",
    "        try:\n",
    "            parse_review_vectors.append(model[word])\n",
    "        except KeyError:\n",
    "            parse_review_vectors.append(np.zeros(300, dtype=float))\n",
    "    review_tensor = torch.tensor(parse_review_vectors, dtype=torch.float)\n",
    "    review_tensor = review_tensor.view(1, len(parse_review_vectors), 300)\n",
    "    return (net(review_tensor) > 0.5).item()\n",
    "\n",
    "def predict_from_vector(review_vector):\n",
    "    review_tensor = torch.tensor(review_vector, dtype=torch.float)\n",
    "    review_tensor = review_tensor.view(1, len(review_vector), 300)\n",
    "    prediction = net(review_tensor)\n",
    "    return torch.argmax(prediction.view(prediction.size(1)))\n",
    "\n",
    "def class_report(input_test, ground_truth):\n",
    "    prediction = []\n",
    "    for document_vector in input_test:\n",
    "        prediction.append(predict_from_vector(document_vector))\n",
    "    prediction = np.array(prediction)\n",
    "    ground_truth = np.array(ground_truth)\n",
    "    print(confusion_matrix(ground_truth, prediction))  \n",
    "    print(classification_report(ground_truth, prediction))"
   ]
  },
  {
   "cell_type": "code",
   "execution_count": 32,
   "metadata": {},
   "outputs": [
    {
     "name": "stdout",
     "output_type": "stream",
     "text": [
      "[[70  2  1  7]\n",
      " [ 0 67  2  4]\n",
      " [ 1  1 59  1]\n",
      " [ 0  1  3 81]]\n",
      "              precision    recall  f1-score   support\n",
      "\n",
      "           0       0.99      0.88      0.93        80\n",
      "           1       0.94      0.92      0.93        73\n",
      "           2       0.91      0.95      0.93        62\n",
      "           3       0.87      0.95      0.91        85\n",
      "\n",
      "   micro avg       0.92      0.92      0.92       300\n",
      "   macro avg       0.93      0.92      0.92       300\n",
      "weighted avg       0.93      0.92      0.92       300\n",
      "\n"
     ]
    }
   ],
   "source": [
    "class_report(input_test=input_test, ground_truth=target_test)"
   ]
  },
  {
   "cell_type": "code",
   "execution_count": null,
   "metadata": {},
   "outputs": [],
   "source": []
  }
 ],
 "metadata": {
  "kernelspec": {
   "display_name": "Python 3",
   "language": "python",
   "name": "python3"
  },
  "language_info": {
   "codemirror_mode": {
    "name": "ipython",
    "version": 3
   },
   "file_extension": ".py",
   "mimetype": "text/x-python",
   "name": "python",
   "nbconvert_exporter": "python",
   "pygments_lexer": "ipython3",
   "version": "3.7.3"
  }
 },
 "nbformat": 4,
 "nbformat_minor": 2
}
